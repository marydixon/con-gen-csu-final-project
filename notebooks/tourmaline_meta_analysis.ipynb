{
 "cells": [
  {
   "cell_type": "markdown",
   "id": "electrical-adrian",
   "metadata": {},
   "source": [
    "# Tourmaline Meta-analysis Notebook"
   ]
  },
  {
   "cell_type": "markdown",
   "id": "spare-checkout",
   "metadata": {},
   "source": [
    "This notebook shows how to take Tourmaline outputs from two (or more) separate analyses and merge them for a meta-analysis. The two analyses are derived from the test data that comes with Tourmaline, and the output must first be generated (commands provided)."
   ]
  },
  {
   "cell_type": "markdown",
   "id": "selective-hygiene",
   "metadata": {},
   "source": [
    "## Import packages"
   ]
  },
  {
   "cell_type": "code",
   "execution_count": null,
   "id": "interstate-wrestling",
   "metadata": {},
   "outputs": [],
   "source": [
    "from qiime2 import Artifact\n",
    "from qiime2 import Visualization\n",
    "import pandas as pd\n",
    "import matplotlib.pyplot as plt\n",
    "import seaborn as sns\n",
    "%matplotlib inline"
   ]
  },
  {
   "cell_type": "markdown",
   "id": "metric-ocean",
   "metadata": {},
   "source": [
    "## Set file paths"
   ]
  },
  {
   "cell_type": "code",
   "execution_count": null,
   "id": "sustainable-round",
   "metadata": {},
   "outputs": [],
   "source": [
    "dir_analysis1 = '../meta-analysis/analysis1'\n",
    "dir_analysis2 = '../meta-analysis/analysis2'"
   ]
  },
  {
   "cell_type": "markdown",
   "id": "distributed-father",
   "metadata": {},
   "source": [
    "## Set up Tourmaline analyses"
   ]
  },
  {
   "cell_type": "markdown",
   "id": "handled-receipt",
   "metadata": {},
   "source": [
    "The below commands will, for each analysis, clone the Tourmaline respository, initialize it using parameters and files from the top-level repository (already downloaded), and copy the provided metadata and manifest files to their proper location in `00-data`."
   ]
  },
  {
   "cell_type": "code",
   "execution_count": null,
   "id": "fancy-soccer",
   "metadata": {},
   "outputs": [],
   "source": [
    "%%bash\n",
    "cd ../meta-analysis/analysis1\n",
    "git clone https://github.com/aomlomics/tourmaline\n",
    "cd tourmaline\n",
    "./scripts/initialize_dir_from_existing_tourmaline_dir.sh ../../..\n",
    "cp ../metadata.tsv 00-data\n",
    "cp ../manifest_* 00-data"
   ]
  },
  {
   "cell_type": "code",
   "execution_count": null,
   "id": "manual-linux",
   "metadata": {},
   "outputs": [],
   "source": [
    "%%bash\n",
    "cd ../meta-analysis/analysis2\n",
    "git clone https://github.com/aomlomics/tourmaline\n",
    "cd tourmaline\n",
    "./scripts/initialize_dir_from_existing_tourmaline_dir.sh ../../..\n",
    "cp ../metadata.tsv 00-data\n",
    "cp ../manifest_* 00-data"
   ]
  },
  {
   "cell_type": "markdown",
   "id": "weird-hollow",
   "metadata": {},
   "source": [
    "After running the above steps, check that the required input files are all present."
   ]
  },
  {
   "cell_type": "markdown",
   "id": "textile-chest",
   "metadata": {},
   "source": [
    "## Run Tourmaline analyses"
   ]
  },
  {
   "cell_type": "markdown",
   "id": "helpful-snapshot",
   "metadata": {},
   "source": [
    "Each commands below will take ~5 minutes to complete. You will not see any output until the command is finished."
   ]
  },
  {
   "cell_type": "code",
   "execution_count": null,
   "id": "cathedral-professor",
   "metadata": {
    "scrolled": true
   },
   "outputs": [],
   "source": [
    "%%bash\n",
    "cd ../meta-analysis/analysis1/tourmaline\n",
    "snakemake dada2_pe_report_unfiltered"
   ]
  },
  {
   "cell_type": "code",
   "execution_count": null,
   "id": "brazilian-skating",
   "metadata": {},
   "outputs": [],
   "source": [
    "%%bash\n",
    "cd ../meta-analysis/analysis2/tourmaline\n",
    "snakemake dada2_pe_report_unfiltered"
   ]
  },
  {
   "cell_type": "markdown",
   "id": "solid-drive",
   "metadata": {},
   "source": [
    "## Merge outputs"
   ]
  },
  {
   "cell_type": "markdown",
   "id": "ranging-combine",
   "metadata": {},
   "source": [
    "### Merge feature tables\n",
    "\n",
    "Additional feature table files can be merged by adding more `--i-tables` inputs."
   ]
  },
  {
   "cell_type": "code",
   "execution_count": null,
   "id": "original-minority",
   "metadata": {},
   "outputs": [],
   "source": [
    "%%bash\n",
    "qiime feature-table merge \\\n",
    "--i-tables ../meta-analysis/analysis1/tourmaline/02-output-dada2-pe-unfiltered/00-table-repseqs/table.qza \\\n",
    "--i-tables ../meta-analysis/analysis2/tourmaline/02-output-dada2-pe-unfiltered/00-table-repseqs/table.qza \\\n",
    "--o-merged-table ../meta-analysis/merged_table.qza"
   ]
  },
  {
   "cell_type": "markdown",
   "id": "ruled-divorce",
   "metadata": {},
   "source": [
    "### Merge representative sequences\n",
    "\n",
    "Additional representative sequences files can be merged by adding more `--i-data` inputs."
   ]
  },
  {
   "cell_type": "code",
   "execution_count": null,
   "id": "hydraulic-gothic",
   "metadata": {},
   "outputs": [],
   "source": [
    "%%bash\n",
    "qiime feature-table merge-seqs \\\n",
    "--i-data ../meta-analysis/analysis1/tourmaline/02-output-dada2-pe-unfiltered/00-table-repseqs/repseqs.qza \\\n",
    "--i-data ../meta-analysis/analysis2/tourmaline/02-output-dada2-pe-unfiltered/00-table-repseqs/repseqs.qza \\\n",
    "--o-merged-data ../meta-analysis/merged_repseqs.qza"
   ]
  },
  {
   "cell_type": "markdown",
   "id": "ceramic-border",
   "metadata": {},
   "source": [
    "### Merge taxonomies\n",
    "\n",
    "Additional taxonomy files can be merged by adding more `--i-data` inputs."
   ]
  },
  {
   "cell_type": "code",
   "execution_count": null,
   "id": "choice-carry",
   "metadata": {},
   "outputs": [],
   "source": [
    "%%bash\n",
    "qiime feature-table merge-taxa \\\n",
    "--i-data ../meta-analysis/analysis1/tourmaline/02-output-dada2-pe-unfiltered/01-taxonomy/taxonomy.qza \\\n",
    "--i-data ../meta-analysis/analysis2/tourmaline/02-output-dada2-pe-unfiltered/01-taxonomy/taxonomy.qza \\\n",
    "--o-merged-data ../meta-analysis/merged_taxonomy.qza"
   ]
  },
  {
   "cell_type": "markdown",
   "id": "unexpected-arctic",
   "metadata": {},
   "source": [
    "### Merge metadata\n",
    "\n",
    "Additional metadata files can be merged by importing more files and adding them to the `concat` command."
   ]
  },
  {
   "cell_type": "code",
   "execution_count": null,
   "id": "noted-syndicate",
   "metadata": {},
   "outputs": [],
   "source": [
    "metadata1 = pd.read_csv('%s/tourmaline/00-data/metadata.tsv' % dir_analysis1, sep='\\t', index_col=0)\n",
    "metadata2 = pd.read_csv('%s/tourmaline/00-data/metadata.tsv' % dir_analysis2, sep='\\t', index_col=0)\n",
    "metadata_merged = pd.concat([metadata1, metadata2])\n",
    "metadata_merged.to_csv('../meta-analysis/merged_metadata.tsv', sep='\\t')"
   ]
  },
  {
   "cell_type": "markdown",
   "id": "lesser-archive",
   "metadata": {},
   "source": [
    "## Analyze merged output"
   ]
  },
  {
   "cell_type": "markdown",
   "id": "preceding-initial",
   "metadata": {},
   "source": [
    "The commands below are some initial examples of analyzing the merged output. A full meta-analysis will go much deeper than this."
   ]
  },
  {
   "cell_type": "markdown",
   "id": "eastern-density",
   "metadata": {},
   "source": [
    "### Taxonomy barplot\n",
    "\n",
    "Create a taxonomy barplot."
   ]
  },
  {
   "cell_type": "code",
   "execution_count": null,
   "id": "sound-mouse",
   "metadata": {},
   "outputs": [],
   "source": [
    "%%bash\n",
    "qiime taxa barplot \\\n",
    "--i-table ../meta-analysis/merged_table.qza \\\n",
    "--i-taxonomy ../meta-analysis/merged_taxonomy.qza \\\n",
    "--m-metadata-file ../meta-analysis/merged_metadata.tsv \\\n",
    "--o-visualization ../meta-analysis/merged_taxa_barplot.qzv"
   ]
  },
  {
   "cell_type": "markdown",
   "id": "appointed-twelve",
   "metadata": {},
   "source": [
    "### Alpha diversity\n",
    "\n",
    "Create an alpha diversity vector using the 'shannon' metric."
   ]
  },
  {
   "cell_type": "code",
   "execution_count": null,
   "id": "unsigned-yeast",
   "metadata": {},
   "outputs": [],
   "source": [
    "%%bash\n",
    "qiime diversity alpha \\\n",
    "--i-table ../meta-analysis/merged_table.qza \\\n",
    "--p-metric shannon \\\n",
    "--o-alpha-diversity ../meta-analysis/merged_alpha_shannon.qza"
   ]
  },
  {
   "cell_type": "markdown",
   "id": "stainless-cartoon",
   "metadata": {},
   "source": [
    "### Beta diversity\n",
    "\n",
    "Create a beta diversity distance matrix using the 'braycurtis' metric."
   ]
  },
  {
   "cell_type": "code",
   "execution_count": null,
   "id": "former-plant",
   "metadata": {},
   "outputs": [],
   "source": [
    "%%bash\n",
    "qiime diversity beta \\\n",
    "--i-table ../meta-analysis/merged_table.qza \\\n",
    "--p-metric braycurtis \\\n",
    "--o-distance-matrix ../meta-analysis/merged_beta_braycurtis.qza"
   ]
  }
 ],
 "metadata": {
  "kernelspec": {
   "display_name": "Python 3",
   "language": "python",
   "name": "python3"
  },
  "language_info": {
   "codemirror_mode": {
    "name": "ipython",
    "version": 3
   },
   "file_extension": ".py",
   "mimetype": "text/x-python",
   "name": "python",
   "nbconvert_exporter": "python",
   "pygments_lexer": "ipython3",
   "version": "3.6.13"
  }
 },
 "nbformat": 4,
 "nbformat_minor": 5
}
